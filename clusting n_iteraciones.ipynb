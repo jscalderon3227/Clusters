{
 "metadata": {
  "name": "clusting n_iteraciones"
 },
 "nbformat": 3,
 "nbformat_minor": 0,
 "worksheets": [
  {
   "cells": [
    {
     "cell_type": "code",
     "collapsed": false,
     "input": [
      "%pylab inline\n",
      "\n",
      "\n",
      "matriz=loadtxt(\"data.dat\")\n",
      "numiteraciones=4\n",
      "npuntos=shape(matriz)[0]\n",
      "x=zeros(npuntos)\n",
      "y=zeros(npuntos)\n",
      "xcentros1=zeros(numiteraciones)\n",
      "ycentros1=zeros(numiteraciones)\n",
      "xcentros2=zeros(numiteraciones)\n",
      "ycentros2=zeros(numiteraciones)\n",
      "\n",
      "for i in range(npuntos):\n",
      "    x[i]=(matriz[i])[0]\n",
      "    y[i]=(matriz[i])[1]\n",
      "    \n",
      "xcentros1[0]=(14*random.random())-2\n",
      "ycentros1[0]=(16*random.random())-2\n",
      "xcentros2[0]=(14*random.random())-2\n",
      "ycentros2[0]=(16*random.random())-2\n",
      "vectorid=zeros(20)\n",
      "\n",
      "for j in range(numiteraciones-1):\n",
      "    \n",
      "    for i in range(npuntos):\n",
      "        x0=x[i]\n",
      "        y0=y[i]\n",
      "        distancia1=sqrt(((x0-xcentros1[j])**2)+((y0-ycentros[j])**2))\n",
      "        distancia2=sqrt(((x0-xcentros2[j])**2)+((y0-ycentros2[j])**2))\n",
      "        if(distancia1<=distancia2):\n",
      "            vectorid[i]=0\n",
      "        else:\n",
      "            vectorid[i]=1\n",
      "            \n",
      "    index1=where(vectorid==0)\n",
      "\n",
      "    xaprom1=x[index1]\n",
      "    yaprom1=y[index1]\n",
      "    xcentros1[j+1]=sum(xaprom1)/size(xaprom1)\n",
      "    ycentros1[j+1]=sum(yaprom1)/size(yaprom1)\n",
      "        \n",
      "    index2=where(vectorid==1)\n",
      "    xaprom2=x[index2]\n",
      "    yaprom2=y[index2]\n",
      "    xcentros2[j+1]=sum(xaprom2)/size(xaprom2)\n",
      "    ycentros2[j+1]=sum(yaprom2)/size(yaprom2)\n",
      "\n",
      "    scatter(xcentros1[j+1],ycentros1[j+1], c=j, s=90)\n",
      "    scatter(xcentros2[j+1],ycentros2[j+1], c=j+10, s=90)\n",
      "    scatter(xaprom1,yaprom1,c='r')\n",
      "    scatter(xaprom2,yaprom2, c='g')"
     ],
     "language": "python",
     "metadata": {},
     "outputs": [
      {
       "output_type": "stream",
       "stream": "stdout",
       "text": [
        "\n",
        "Welcome to pylab, a matplotlib-based Python environment [backend: module://IPython.kernel.zmq.pylab.backend_inline].\n",
        "For more information, type 'help(pylab)'.\n"
       ]
      },
      {
       "output_type": "display_data",
       "png": "[encoded data removed]",
       "text": [
        "<matplotlib.figure.Figure at 0x22ef9d0>"
       ]
      }
     ],
     "prompt_number": 59
    },
    {
     "cell_type": "code",
     "collapsed": false,
     "input": [],
     "language": "python",
     "metadata": {},
     "outputs": [],
     "prompt_number": 27
    },
    {
     "cell_type": "code",
     "collapsed": false,
     "input": [],
     "language": "python",
     "metadata": {},
     "outputs": []
    }
   ],
   "metadata": {}
  }
 ]
}