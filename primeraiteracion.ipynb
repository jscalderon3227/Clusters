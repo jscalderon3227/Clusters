{
 "metadata": {
  "name": "primeraiteracion"
 }, 
 "nbformat": 2, 
 "worksheets": [
  {
   "cells": [
    {
     "cell_type": "code", 
     "collapsed": false, 
     "input": [
      "%pylab inline"
     ], 
     "language": "python", 
     "outputs": [
      {
       "output_type": "stream", 
       "stream": "stdout", 
       "text": [
        "", 
        "Welcome to pylab, a matplotlib-based Python environment [backend: module://IPython.zmq.pylab.backend_inline].", 
        "For more information, type 'help(pylab)'."
       ]
      }
     ], 
     "prompt_number": 118
    }, 
    {
     "cell_type": "code", 
     "collapsed": false, 
     "input": [
      "matriz=loadtxt(\"data.dat\")"
     ], 
     "language": "python", 
     "outputs": [], 
     "prompt_number": 119
    }, 
    {
     "cell_type": "code", 
     "collapsed": false, 
     "input": [
      "npuntos=shape(matriz)[0]", 
      "x=zeros(npuntos)", 
      "y=zeros(npuntos)"
     ], 
     "language": "python", 
     "outputs": [], 
     "prompt_number": 120
    }, 
    {
     "cell_type": "code", 
     "collapsed": false, 
     "input": [
      "for i in range(npuntos):", 
      "    x[i]=(matriz[i])[0]", 
      "    y[i]=(matriz[i])[1]"
     ], 
     "language": "python", 
     "outputs": [], 
     "prompt_number": 121
    }, 
    {
     "cell_type": "code", 
     "collapsed": false, 
     "input": [
      "scatter(x,y)"
     ], 
     "language": "python", 
     "outputs": [
      {
       "output_type": "pyout", 
       "prompt_number": 122, 
       "text": [
        "<matplotlib.collections.PathCollection at 0x5025cd0>"
       ]
      }, 
      {
       "output_type": "display_data", 
       "png": "[encoded data removed]"
      }
     ], 
     "prompt_number": 122
    }, 
    {
     "cell_type": "code", 
     "collapsed": false, 
     "input": [
      "xcentro1=(14*random.random())-2", 
      "ycentro1=(16*random.random())-2"
     ], 
     "language": "python", 
     "outputs": [], 
     "prompt_number": 123
    }, 
    {
     "cell_type": "code", 
     "collapsed": false, 
     "input": [
      "xcentro2=(14*random.random())-2", 
      "ycentro2=(16*random.random())-2"
     ], 
     "language": "python", 
     "outputs": [], 
     "prompt_number": 124
    }, 
    {
     "cell_type": "code", 
     "collapsed": false, 
     "input": [
      "vectorid=zeros(20)"
     ], 
     "language": "python", 
     "outputs": [], 
     "prompt_number": 125
    }, 
    {
     "cell_type": "code", 
     "collapsed": false, 
     "input": [
      "for i in range(npuntos):", 
      "        x0=x[i]", 
      "        y0=y[i]", 
      "        distancia1=sqrt(((x0-xcentro1)**2)+((y0-ycentro1)**2))", 
      "        distancia2=sqrt(((x0-xcentro2)**2)+((y0-ycentro2)**2))", 
      "        if(distancia1<=distancia2):", 
      "            vectorid[i]=0", 
      "        else:", 
      "            vectorid[i]=1"
     ], 
     "language": "python", 
     "outputs": [], 
     "prompt_number": 126
    }, 
    {
     "cell_type": "code", 
     "collapsed": false, 
     "input": [
      "index1=where(vectorid==0)", 
      "", 
      "xaprom1=x[index1]", 
      "yaprom1=y[index1]", 
      "xcentro1=sum(xaprom1)/size(xaprom1)", 
      "ycentro1=sum(yaprom1)/size(yaprom1)", 
      "        ", 
      "index2=where(vectorid==1)", 
      "xaprom2=x[index2]", 
      "yaprom2=y[index2]", 
      "xcentro2=sum(xaprom2)/size(xaprom2)", 
      "ycentro2=sum(yaprom2)/size(yaprom2)", 
      "", 
      ""
     ], 
     "language": "python", 
     "outputs": [], 
     "prompt_number": 127
    }, 
    {
     "cell_type": "code", 
     "collapsed": false, 
     "input": [
      "scatter(xcentro1,ycentro1, c='r', s=90)", 
      "scatter(xcentro2,ycentro2, c='g', s=90)", 
      "scatter(xaprom1,yaprom1,c='r')", 
      "scatter(xaprom2,yaprom2, c='g')"
     ], 
     "language": "python", 
     "outputs": [
      {
       "output_type": "pyout", 
       "prompt_number": 128, 
       "text": [
        "<matplotlib.collections.PathCollection at 0x522b5d0>"
       ]
      }, 
      {
       "output_type": "display_data", 
       "png": "[encoded data removed]"
      }
     ], 
     "prompt_number": 128
    }, 
    {
     "cell_type": "code", 
     "collapsed": true, 
     "input": [], 
     "language": "python", 
     "outputs": [], 
     "prompt_number": 128
    }, 
    {
     "cell_type": "code", 
     "collapsed": true, 
     "input": [], 
     "language": "python", 
     "outputs": []
    }
   ]
  }
 ]
}